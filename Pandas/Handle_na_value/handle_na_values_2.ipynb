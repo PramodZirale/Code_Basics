{
 "cells": [
  {
   "cell_type": "code",
   "execution_count": 8,
   "metadata": {},
   "outputs": [],
   "source": [
    "import pandas as pd # type: ignore\n",
    "\n",
    "data = {\n",
    "    'tickers': ['GOOGL', 'WMT', 'MSFT', 'RIL', 'TATA'],\n",
    "    'eps': [27.82, 4.61, '-1', 'not available', 5.6],\n",
    "    'revenue': [87, 484, 85, 50, '-1'],\n",
    "    'price': [845, 65, 64, 1023, 'n.a.'],\n",
    "    'people': ['larry page', 'n.a.', 'bill gates', 'mukesh ambani', 'ratan tata']\n",
    "}\n",
    "\n",
    "df = pd.DataFrame(data)"
   ]
  },
  {
   "cell_type": "code",
   "execution_count": 9,
   "metadata": {},
   "outputs": [
    {
     "name": "stdout",
     "output_type": "stream",
     "text": [
      "  tickers    eps  revenue   price         people\n",
      "0   GOOGL  27.82     87.0   845.0     larry page\n",
      "1     WMT   4.61    484.0    65.0            NaN\n",
      "2    MSFT    NaN     85.0    64.0     bill gates\n",
      "3     RIL    NaN     50.0  1023.0  mukesh ambani\n",
      "4    TATA   5.60      NaN     NaN     ratan tata\n"
     ]
    },
    {
     "name": "stderr",
     "output_type": "stream",
     "text": [
      "C:\\Users\\TEI-1288\\AppData\\Local\\Temp\\ipykernel_30852\\3235473941.py:8: FutureWarning: Downcasting behavior in `replace` is deprecated and will be removed in a future version. To retain the old behavior, explicitly call `result.infer_objects(copy=False)`. To opt-in to the future behavior, set `pd.set_option('future.no_silent_downcasting', True)`\n",
      "  df.replace(to_replace, replace_with, inplace=True)\n"
     ]
    }
   ],
   "source": [
    "import numpy as np\n",
    "\n",
    "# Define the replacements\n",
    "to_replace = ['not available', '-1', 'n.a.', 'n.a.']\n",
    "replace_with = np.nan\n",
    "\n",
    "# Replace the specified values with NaN\n",
    "df.replace(to_replace, replace_with, inplace=True)\n",
    "\n",
    "# Display the modified DataFrame\n",
    "print(df)\n"
   ]
  },
  {
   "cell_type": "code",
   "execution_count": 12,
   "metadata": {},
   "outputs": [
    {
     "name": "stderr",
     "output_type": "stream",
     "text": [
      "C:\\Users\\TEI-1288\\AppData\\Local\\Temp\\ipykernel_30852\\1297171803.py:3: FutureWarning: A value is trying to be set on a copy of a DataFrame or Series through chained assignment using an inplace method.\n",
      "The behavior will change in pandas 3.0. This inplace method will never work because the intermediate object on which we are setting values always behaves as a copy.\n",
      "\n",
      "For example, when doing 'df[col].method(value, inplace=True)', try using 'df.method({col: value}, inplace=True)' or df[col] = df[col].method(value) instead, to perform the operation inplace on the original object.\n",
      "\n",
      "\n",
      "  df['eps'].replace('-1', np.nan, inplace=True)\n"
     ]
    }
   ],
   "source": [
    "# Replace 'larry page' with 'Larry Page' and 'bill gates' with 'Bill Gates'\n",
    "df['people'].replace({'larry page': 'Larry Page', 'bill gates': 'Bill Gates'}, inplace=True)\n",
    "df['eps'].replace('-1', np.nan, inplace=True)"
   ]
  }
 ],
 "metadata": {
  "kernelspec": {
   "display_name": "basics_env",
   "language": "python",
   "name": "python3"
  },
  "language_info": {
   "codemirror_mode": {
    "name": "ipython",
    "version": 3
   },
   "file_extension": ".py",
   "mimetype": "text/x-python",
   "name": "python",
   "nbconvert_exporter": "python",
   "pygments_lexer": "ipython3",
   "version": "3.12.3"
  }
 },
 "nbformat": 4,
 "nbformat_minor": 2
}
