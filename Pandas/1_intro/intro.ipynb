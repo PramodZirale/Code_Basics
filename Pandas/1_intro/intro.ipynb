{
 "cells": [
  {
   "cell_type": "code",
   "execution_count": 13,
   "metadata": {},
   "outputs": [],
   "source": [
    "# what is the minimum, maximum and average imdb_rating \n",
    "\n",
    "# for all movies\n",
    "\n",
    "# for Bolywood movies\n",
    "\n",
    "# for Hollywood movies\n"
   ]
  },
  {
   "cell_type": "code",
   "execution_count": 15,
   "metadata": {},
   "outputs": [
    {
     "name": "stdout",
     "output_type": "stream",
     "text": [
      "All movies : (9.3, 1.9, 7.919444444444445)\n",
      "Bollywood movies : (8.4, 1.9, 7.65625)\n",
      "Hollywood movies : (9.3, 6.8, 8.129999999999999)\n"
     ]
    }
   ],
   "source": [
    "import csv\n",
    "\n",
    "def calculate_rating_stats(data , industry=None):\n",
    "    rating = []\n",
    "    for rows in data:\n",
    "        if rows[3] != 'NULL' and (not industry or rows[1] == industry):\n",
    "            rating.append(float(rows[3]))\n",
    "    \n",
    "    max_rating = max(rating)   \n",
    "    min_rating = min(rating)\n",
    "    avg_rating = sum(rating) / len(rating)\n",
    "    return min_rating, max_rating, avg_rating\n",
    "\n",
    "with open(\"../movies.csv\", 'r') as f:\n",
    "    data = list(csv.reader(f))\n",
    "    header = data[0]\n",
    "    data = data[1:]\n",
    "    \n",
    "    # print(header)\n",
    "    # print(data)    \n",
    "    \n",
    "    max_rating, min_rating, avg_rating = calculate_rating_stats(data)\n",
    "    print(f'All movies : {min_rating, max_rating, avg_rating}')\n",
    "    max_rating, min_rating, avg_rating = calculate_rating_stats(data, \"Bollywood\")\n",
    "    print(f'Bollywood movies : {min_rating, max_rating, avg_rating}')\n",
    "    max_rating, min_rating, avg_rating = calculate_rating_stats(data, \"Hollywood\")\n",
    "    print(f'Hollywood movies : {min_rating, max_rating, avg_rating}')"
   ]
  },
  {
   "cell_type": "code",
   "execution_count": null,
   "metadata": {},
   "outputs": [],
   "source": [
    "import pandas as pd\n",
    "\n",
    "# read csv file\n",
    "df = pd.read_csv(\"../movies.csv\")\n"
   ]
  },
  {
   "cell_type": "code",
   "execution_count": null,
   "metadata": {},
   "outputs": [],
   "source": [
    "# below instruction will print the first 10 rows of the dataframe\n",
    "df.head(10)\n"
   ]
  },
  {
   "cell_type": "code",
   "execution_count": null,
   "metadata": {},
   "outputs": [],
   "source": [
    "# below instruction will print the last 10 rows of the dataframe\n",
    "df.tail(10)"
   ]
  },
  {
   "cell_type": "code",
   "execution_count": null,
   "metadata": {},
   "outputs": [],
   "source": [
    "# below instruction will print the random 10 rows of the dataframe\n",
    "df.sample(10)"
   ]
  },
  {
   "cell_type": "code",
   "execution_count": null,
   "metadata": {},
   "outputs": [],
   "source": [
    "# below instruction will print the rows from 2 to 6 of the dataframe\n",
    "df[2:6]\n"
   ]
  },
  {
   "cell_type": "code",
   "execution_count": 31,
   "metadata": {},
   "outputs": [
    {
     "data": {
      "text/plain": [
       "(37, 10)"
      ]
     },
     "execution_count": 31,
     "metadata": {},
     "output_type": "execute_result"
    }
   ],
   "source": [
    "# below instruction will print the row and column of the dataframe\n",
    "df.shape"
   ]
  },
  {
   "cell_type": "code",
   "execution_count": 44,
   "metadata": {},
   "outputs": [
    {
     "data": {
      "text/plain": [
       "(np.float64(1.9), np.float64(9.3), np.float64(7.919444444444445))"
      ]
     },
     "execution_count": 44,
     "metadata": {},
     "output_type": "execute_result"
    }
   ],
   "source": [
    "# find average of imdb_rating\n",
    "type(df['imdb_rating'])\n",
    "# dir(df.imdb_rating)\n",
    "# all movies average imdb rating\n",
    "df.imdb_rating.min(),df.imdb_rating.max(),df.imdb_rating.mean()\n",
    "\n"
   ]
  },
  {
   "cell_type": "code",
   "execution_count": 52,
   "metadata": {},
   "outputs": [
    {
     "name": "stdout",
     "output_type": "stream",
     "text": [
      "All Movies imdb rating : Min_rating - 1.9, Max_rating -9.3,Avg_Rating - 7.919444444444445\n",
      "Bollywood Movies imdb rating : Min_rating - 1.9, Max_rating -8.4,Avg_Rating - 7.656250000000001\n",
      "Hollywood Movies imdb rating : Min_rating - 6.8, Max_rating -9.3,Avg_Rating - 8.130000000000003\n"
     ]
    }
   ],
   "source": [
    "df_a = df\n",
    "df_b = df[df.industry=='Bollywood']\n",
    "df_h = df[df.industry=='Hollywood']\n",
    "\n",
    "print (f'All Movies imdb rating : Min_rating - {df_a.imdb_rating.min()}, Max_rating -{df_a.imdb_rating.max()},Avg_Rating - {df_a.imdb_rating.mean()}')\n",
    "print (f'Bollywood Movies imdb rating : Min_rating - {df_b.imdb_rating.min()}, Max_rating -{df_b.imdb_rating.max()},Avg_Rating - {df_b.imdb_rating.mean()}')\n",
    "print (f'Hollywood Movies imdb rating : Min_rating - {df_h.imdb_rating.min()}, Max_rating -{df_h.imdb_rating.max()},Avg_Rating - {df_h.imdb_rating.mean()}')\n",
    "\n",
    "\n"
   ]
  }
 ],
 "metadata": {
  "kernelspec": {
   "display_name": "basics_env",
   "language": "python",
   "name": "python3"
  },
  "language_info": {
   "codemirror_mode": {
    "name": "ipython",
    "version": 3
   },
   "file_extension": ".py",
   "mimetype": "text/x-python",
   "name": "python",
   "nbconvert_exporter": "python",
   "pygments_lexer": "ipython3",
   "version": "3.12.3"
  }
 },
 "nbformat": 4,
 "nbformat_minor": 2
}
