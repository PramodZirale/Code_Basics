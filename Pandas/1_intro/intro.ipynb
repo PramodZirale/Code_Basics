{
 "cells": [
  {
   "cell_type": "code",
   "execution_count": null,
   "metadata": {},
   "outputs": [],
   "source": [
    "# what is the minimum, maximum and average imdb_rating \n",
    "\n",
    "# for all movies\n",
    "\n",
    "# for Bolywood movies\n",
    "\n",
    "# for Hollywood movies\n"
   ]
  },
  {
   "cell_type": "code",
   "execution_count": 11,
   "metadata": {},
   "outputs": [
    {
     "name": "stdout",
     "output_type": "stream",
     "text": [
      "['title', 'industry', 'release_year', 'imdb_rating', 'studio', 'budget', 'revenue', 'unit', 'currency', 'language']\n",
      "[['Pather Panchali', 'Bollywood', '1955', '8.3', 'Government of West Bengal', '70000', '100000', 'Thousands', 'INR', 'Bengali'], ['Doctor Strange in the Multiverse of Madness', 'Hollywood', '2022', '7', 'Marvel Studios', '200', '954.8', 'Millions', 'USD', 'English'], ['Thor: The Dark World ', 'Hollywood', '2013', '6.8', 'Marvel Studios', '165', '644.8', 'Millions', 'USD', 'English'], ['Thor: Ragnarok ', 'Hollywood', '2017', '7.9', 'Marvel Studios', '180', '854', 'Millions', 'USD', 'English'], ['Thor: Love and Thunder ', 'Hollywood', '2022', '6.8', 'Marvel Studios', '250', '670', 'Millions', 'USD', 'English'], ['The Shawshank Redemption', 'Hollywood', '1994', '9.3', 'Castle Rock Entertainment', '25', '73.3', 'Millions', 'USD', 'English'], ['Interstellar', 'Hollywood', '2014', '8.6', 'Warner Bros. Pictures', '165', '701.8', 'Millions', 'USD', 'English'], ['The Pursuit of Happyness', 'Hollywood', '2006', '8', 'Columbia Pictures', '55', '307.1', 'Millions', 'USD', 'English'], ['Gladiator', 'Hollywood', '2000', '8.5', 'Universal Pictures  ', '103', '460.5', 'Millions', 'USD', 'English'], ['Titanic', 'Hollywood', '1997', '7.9', 'Paramount Pictures', '200', '2202', 'Millions', 'USD', 'English'], [\"It's a Wonderful Life\", 'Hollywood', '1946', '8.6', 'Liberty Films', '3.18', '3.3', 'Millions', 'USD', 'English'], ['Avatar', 'Hollywood', '2009', '7.8', '20th Century Fox', '237', '2847', 'Millions', 'USD', 'English'], ['The Godfather', 'Hollywood', '1972', '9.2', 'Paramount Pictures', '7.2', '291', 'Millions', 'USD', 'English'], ['The Dark Knight', 'Hollywood', '2008', '9', 'Syncopy', '185', '1006', 'Millions', 'USD', 'English'], [\"Schindler's List\", 'Hollywood', '1993', '9', 'Universal Pictures', '22', '322.2', 'Millions', 'USD', 'English'], ['Jurassic Park', 'Hollywood', '1993', '8.2', 'Universal Pictures', '63', '1046', 'Millions', 'USD', 'English'], ['Parasite', 'Hollywood', '2019', '8.5', '', '15.5', '263.1', 'Millions', 'USD', 'English'], ['Avengers: Endgame', 'Hollywood', '2019', '8.4', 'Marvel Studios', '400', '2798', 'Millions', 'USD', 'English'], ['Avengers: Infinity War', 'Hollywood', '2018', '8.4', 'Marvel Studios', '400', '2048', 'Millions', 'USD', 'English'], ['Captain America: The First Avenger', 'Hollywood', '2011', '6.9', 'Marvel Studios', '216.7', '370.6', 'Millions', 'USD', 'English'], ['Captain America: The Winter Soldier', 'Hollywood', '2014', '7.8', 'Marvel Studios', '177', '714.4', 'Millions', 'USD', 'English'], ['Dilwale Dulhania Le Jayenge', 'Bollywood', '1995', '8', 'Yash Raj Films', '400', '2000', 'Millions', 'INR', 'Hindi'], ['3 Idiots', 'Bollywood', '2009', '8.4', 'Vinod Chopra Films', '550', '4000', 'Millions', 'INR', 'Hindi'], ['Kabhi Khushi Kabhie Gham', 'Bollywood', '2001', '7.4', 'Dharma Productions', '390', '1360', 'Millions', 'INR', 'Hindi'], ['Bajirao Mastani ', 'Bollywood', '2015', '7.2', '', '1.4', '3.5', 'Billions', 'INR', 'Hindi'], ['Taare Zameen Par', 'Bollywood', '2007', '8.3', '', '120', '1350', 'Millions', 'INR', 'Hindi'], ['Munna Bhai M.B.B.S.', 'Bollywood', '2003', '8.1', 'Vinod Chopra Productions', '100', '410', 'Millions', 'INR', 'Hindi'], ['PK', 'Bollywood', '2014', '8.1', 'Vinod Chopra Films', '850', '8540', 'Millions', 'INR', 'Hindi'], ['Sanju', 'Bollywood', '2018', 'NULL', 'Vinod Chopra Films', '1', '5.9', 'Billions', 'INR', 'Hindi'], ['The Kashmir Files', 'Bollywood', '2022', '8.3', 'Zee Studios', '250', '3409', 'Millions', 'INR', 'Hindi'], ['Bajrangi Bhaijaan', 'Bollywood', '2015', '8.1', 'Salman Khan Films', '900', '11690', 'Millions', 'INR', 'Hindi'], ['Race 3', 'Bollywood', '2018', '1.9', 'Salman Khan Films', '1.8', '3.1', 'Billions', 'INR', 'Hindi'], ['Shershaah', 'Bollywood', '2021', '8.4', 'Dharma Productions', '500', '950', 'Millions', 'INR', 'Hindi'], ['K.G.F: Chapter 2', 'Bollywood', '2022', '8.4', 'Hombale Films', '1', '12.5', 'Billions', 'INR', 'Kannada'], ['Pushpa: The Rise - Part 1', 'Bollywood', '2021', '7.6', 'Mythri Movie Makers', '2', '3.6', 'Billions', 'INR', 'Telugu'], ['RRR', 'Bollywood', '2022', '8', 'DVV Entertainment', '5.5', '12', 'Billions', 'INR', 'Telugu'], ['Baahubali: The Beginning', 'Bollywood', '2015', '8', 'Arka Media Works', '1.8', '6.5', 'Billions', 'INR', 'Telugu']]\n",
      "All movies : (9.3, 1.9, 7.919444444444445)\n",
      "Bollywood movies : (8.4, 1.9, 7.65625)\n",
      "Hollywood movies : (9.3, 6.8, 8.129999999999999)\n"
     ]
    }
   ],
   "source": [
    "import csv\n",
    "\n",
    "\n",
    "def calculate_rating_stats(data , industry=None):\n",
    "    rating = []\n",
    "    for rows in data:\n",
    "        if rows[3] != 'NULL' and (not industry or rows[1] == industry):\n",
    "            rating.append(float(rows[3]))\n",
    "    \n",
    "    max_rating = max(rating)   \n",
    "    min_rating = min(rating)\n",
    "    avg_rating = sum(rating) / len(rating)\n",
    "    return min_rating, max_rating, avg_rating\n",
    "\n",
    "with open(\"../movies.csv\", 'r') as f:\n",
    "    data = list(csv.reader(f))\n",
    "    header = data[0]\n",
    "    data = data[1:]\n",
    "    \n",
    "    print(header)\n",
    "    print(data)    \n",
    "    \n",
    "    max_rating, min_rating, avg_rating = calculate_rating_stats(data)\n",
    "    print(f'All movies : {min_rating, max_rating, avg_rating}')\n",
    "    max_rating, min_rating, avg_rating = calculate_rating_stats(data, \"Bollywood\")\n",
    "    print(f'Bollywood movies : {min_rating, max_rating, avg_rating}')\n",
    "    max_rating, min_rating, avg_rating = calculate_rating_stats(data, \"Hollywood\")\n",
    "    print(f'Hollywood movies : {min_rating, max_rating, avg_rating}')\n",
    "\n",
    "\n"
   ]
  }
 ],
 "metadata": {
  "kernelspec": {
   "display_name": "basics_env",
   "language": "python",
   "name": "python3"
  },
  "language_info": {
   "codemirror_mode": {
    "name": "ipython",
    "version": 3
   },
   "file_extension": ".py",
   "mimetype": "text/x-python",
   "name": "python",
   "nbconvert_exporter": "python",
   "pygments_lexer": "ipython3",
   "version": "3.12.3"
  }
 },
 "nbformat": 4,
 "nbformat_minor": 2
}
