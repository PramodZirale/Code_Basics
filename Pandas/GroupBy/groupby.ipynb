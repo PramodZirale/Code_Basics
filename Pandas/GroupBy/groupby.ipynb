{
 "cells": [
  {
   "cell_type": "code",
   "execution_count": 15,
   "metadata": {},
   "outputs": [
    {
     "name": "stdout",
     "output_type": "stream",
     "text": [
      "        day      city  temperature  windspeed  event\n",
      "0  1/1/2017  new york           32          6   Rain\n",
      "1  1/2/2017  new york           36          7  Sunny\n",
      "2  1/3/2017  new york           28         12   Snow\n",
      "3  1/4/2017    mumbai           33          7  Sunny\n",
      "4  1/5/2017    mumbai           90          5   Rain\n",
      "5  1/6/2017    mumbai           85          8   Snow\n"
     ]
    }
   ],
   "source": [
    "import pandas as pd\n",
    "\n",
    "# Create data set for 15 days (currently incorrect lengths)\n",
    "data = {\n",
    "    'day': ['1/1/2017', '1/2/2017', '1/3/2017', '1/4/2017', '1/5/2017', '1/6/2017'],\n",
    "    'city': ['new york', 'new york', 'new york', 'mumbai', 'mumbai', 'mumbai'],\n",
    "    'temperature': [32, 36, 28, 33, 90, 85],\n",
    "    'windspeed': [6, 7, 12, 7, 5, 8],\n",
    "    'event': ['Rain', 'Sunny', 'Snow', 'Sunny', 'Rain', 'Snow']\n",
    "}\n",
    "\n",
    "# Convert the dictionary into a DataFrame\n",
    "df = pd.DataFrame(data)\n",
    "print(df)\n"
   ]
  },
  {
   "cell_type": "code",
   "execution_count": 17,
   "metadata": {},
   "outputs": [
    {
     "data": {
      "text/plain": [
       "np.int64(90)"
      ]
     },
     "execution_count": 17,
     "metadata": {},
     "output_type": "execute_result"
    }
   ],
   "source": [
    "df[df.city == 'new york'].temperature.max()\n",
    "df[df.city == 'mumbai'].temperature.max()"
   ]
  },
  {
   "cell_type": "code",
   "execution_count": 18,
   "metadata": {},
   "outputs": [
    {
     "data": {
      "text/plain": [
       "<pandas.core.groupby.generic.DataFrameGroupBy object at 0x00000267C542A180>"
      ]
     },
     "execution_count": 18,
     "metadata": {},
     "output_type": "execute_result"
    }
   ],
   "source": [
    "g = df.groupby('city')\n",
    "g"
   ]
  },
  {
   "cell_type": "code",
   "execution_count": 22,
   "metadata": {},
   "outputs": [
    {
     "name": "stdout",
     "output_type": "stream",
     "text": [
      "max mumbai\n",
      "max: 90\n",
      "max new york\n",
      "max: 36\n"
     ]
    }
   ],
   "source": [
    "for city , data in g:\n",
    "    print('max',city)\n",
    "    print('max:',data.temperature.max())"
   ]
  }
 ],
 "metadata": {
  "kernelspec": {
   "display_name": "basics_env",
   "language": "python",
   "name": "python3"
  },
  "language_info": {
   "codemirror_mode": {
    "name": "ipython",
    "version": 3
   },
   "file_extension": ".py",
   "mimetype": "text/x-python",
   "name": "python",
   "nbconvert_exporter": "python",
   "pygments_lexer": "ipython3",
   "version": "3.12.3"
  }
 },
 "nbformat": 4,
 "nbformat_minor": 2
}
