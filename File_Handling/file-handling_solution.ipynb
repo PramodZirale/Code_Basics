{
 "cells": [
  {
   "cell_type": "code",
   "execution_count": null,
   "id": "7514c4b1",
   "metadata": {},
   "outputs": [],
   "source": []
  },
  {
   "cell_type": "markdown",
   "id": "ae858b8f",
   "metadata": {},
   "source": [
    "# File Handling Exercise\n",
    "\n",
    "Solution"
   ]
  },
  {
   "cell_type": "markdown",
   "id": "20703606",
   "metadata": {},
   "source": [
    "### 1. student_marks.csv contains the marks and other details for some students. Write a python program to:\n",
    "- Download the Data From (https://www.kaggle.com/arunkumar413/student-marks)\n",
    "- Open the csv file in read mode\n",
    "- Create dictionary from the given data by doing some processing for keys and values\n",
    "- Add a new field to the dictionary `total_marks` and store total marks of the students.\n",
    "- Add new field to the dictionary `Average` and store average marks of the students\n",
    "- with the final Dictionary create a new file \"output.csv\" and write this information to the this file\n",
    "\t"
   ]
  },
  {
   "cell_type": "code",
   "execution_count": null,
   "id": "6f8ecad9",
   "metadata": {},
   "outputs": [],
   "source": [
    "# downloading and saving the file\n",
    "# TODO: use the givn link to download the file\n",
    "# TODO: Save the file in the current directory after downloading"
   ]
  },
  {
   "cell_type": "code",
   "execution_count": 5,
   "id": "22c57cd1",
   "metadata": {},
   "outputs": [],
   "source": [
    "# openning the file in read mode\n",
    "f = open('student_marks.csv', 'r')"
   ]
  },
  {
   "cell_type": "code",
   "execution_count": 6,
   "id": "33cb3935",
   "metadata": {},
   "outputs": [
    {
     "data": {
      "text/plain": [
       "',Gender,DOB,Maths,Physics,Chemistry,English,Biology,Economics,History,Civics\\nJohn,M,05/04/1988,55,45,56,87,21,52,89,65\\nSuresh,M,4/5/1987,75,55,,64,90,61,58,2\\nRamesh,M,25/5/1989,25,54,89,76,95,87,56,74\\nJessica,F,12/8/1990,78,55,86,63,54,89,75,45\\nJennifer,F,2/9/1989,58,96,78,46,96,77,83,53'"
      ]
     },
     "execution_count": 6,
     "metadata": {},
     "output_type": "execute_result"
    }
   ],
   "source": [
    "#let's see the contents of the file\n",
    "f.read()\n"
   ]
  },
  {
   "cell_type": "code",
   "execution_count": 10,
   "id": "a950aa9f",
   "metadata": {},
   "outputs": [
    {
     "data": {
      "text/plain": [
       "',Gender,DOB,Maths,Physics,Chemistry,English,Biology,Economics,History,Civics\\n'"
      ]
     },
     "execution_count": 10,
     "metadata": {},
     "output_type": "execute_result"
    }
   ],
   "source": [
    "# creating dictionary\n",
    "f.seek(0)  #goto the start again\n",
    "\n",
    "#creating a dictionary to store as {key: value} pair \n",
    "d = {}\n",
    "\n",
    "#1st line contain all the attributes names\n",
    "keys = f.readline()\n",
    "keys"
   ]
  },
  {
   "cell_type": "code",
   "execution_count": 11,
   "id": "411dd7ee",
   "metadata": {},
   "outputs": [
    {
     "data": {
      "text/plain": [
       "['',\n",
       " 'Gender',\n",
       " 'DOB',\n",
       " 'Maths',\n",
       " 'Physics',\n",
       " 'Chemistry',\n",
       " 'English',\n",
       " 'Biology',\n",
       " 'Economics',\n",
       " 'History',\n",
       " 'Civics']"
      ]
     },
     "execution_count": 11,
     "metadata": {},
     "output_type": "execute_result"
    }
   ],
   "source": [
    "#let split on ',' and get all the attributes names\n",
    "keys = keys.split(',')\n",
    "keys[-1] = keys[-1][:-1]    # removing extra '\\n' for Civics attribute [Very Important]\n",
    "keys"
   ]
  },
  {
   "cell_type": "code",
   "execution_count": 13,
   "id": "f49a2a7e",
   "metadata": {},
   "outputs": [
    {
     "name": "stdout",
     "output_type": "stream",
     "text": [
      "{'': [], 'Gender': [], 'DOB': [], 'Maths': [], 'Physics': [], 'Chemistry': [], 'English': [], 'Biology': [], 'Economics': [], 'History': [], 'Civics': []}\n"
     ]
    }
   ],
   "source": [
    "# intializing the dictionary with the attributes that we have got and defining values as empty list\n",
    "for key in keys:\n",
    "    d[key] = []\n",
    "\n",
    "print(d)"
   ]
  },
  {
   "cell_type": "code",
   "execution_count": 14,
   "id": "b6947505",
   "metadata": {},
   "outputs": [
    {
     "name": "stdout",
     "output_type": "stream",
     "text": [
      "{'': ['John', 'Suresh', 'Ramesh', 'Jessica', 'Jennifer'], 'Gender': ['M', 'M', 'M', 'F', 'F'], 'DOB': ['05/04/1988', '4/5/1987', '25/5/1989', '12/8/1990', '2/9/1989'], 'Maths': ['55', '75', '25', '78', '58'], 'Physics': ['45', '55', '54', '55', '96'], 'Chemistry': ['56', '', '89', '86', '78'], 'English': ['87', '64', '76', '63', '46'], 'Biology': ['21', '90', '95', '54', '96'], 'Economics': ['52', '61', '87', '89', '77'], 'History': ['89', '58', '56', '75', '83'], 'Civics': ['65', '2', '74', '45', '5']}\n"
     ]
    }
   ],
   "source": [
    "# Adding data to the dictionary\n",
    "for line in f.readlines():\n",
    "    data = line.split(',')\n",
    "    data[-1] = data[-1][:-1]    # removing extra '\\n' from the attribute 'Civics'\n",
    "    \n",
    "    j = 0   #for placing each values in correct key\n",
    "    for key in d:\n",
    "        d[key].append(data[j])\n",
    "        j += 1\n",
    "\n",
    "print(d)"
   ]
  },
  {
   "cell_type": "code",
   "execution_count": 15,
   "id": "ab69447e",
   "metadata": {},
   "outputs": [
    {
     "name": "stdout",
     "output_type": "stream",
     "text": [
      "{'': ['John', 'Suresh', 'Ramesh', 'Jessica', 'Jennifer'],\n",
      " 'Biology': ['21', '90', '95', '54', '96'],\n",
      " 'Chemistry': ['56', '', '89', '86', '78'],\n",
      " 'Civics': ['65', '2', '74', '45', '5'],\n",
      " 'DOB': ['05/04/1988', '4/5/1987', '25/5/1989', '12/8/1990', '2/9/1989'],\n",
      " 'Economics': ['52', '61', '87', '89', '77'],\n",
      " 'English': ['87', '64', '76', '63', '46'],\n",
      " 'Gender': ['M', 'M', 'M', 'F', 'F'],\n",
      " 'History': ['89', '58', '56', '75', '83'],\n",
      " 'Maths': ['55', '75', '25', '78', '58'],\n",
      " 'Physics': ['45', '55', '54', '55', '96']}\n"
     ]
    }
   ],
   "source": [
    "#let's print in nice format\n",
    "\n",
    "import pprint\n",
    "\n",
    "pprint.pprint(d)"
   ]
  },
  {
   "cell_type": "code",
   "execution_count": 18,
   "id": "e8eed36e",
   "metadata": {},
   "outputs": [
    {
     "name": "stdout",
     "output_type": "stream",
     "text": [
      "Keys: \n",
      "dict_keys(['', 'Gender', 'DOB', 'Maths', 'Physics', 'Chemistry', 'English', 'Biology', 'Economics', 'History', 'Civics'])\n"
     ]
    }
   ],
   "source": [
    "#let's see all the keys once\n",
    "#let's see all the values once\n",
    "\n",
    "\n",
    "print(\"Keys: \")\n",
    "print(d.keys())"
   ]
  },
  {
   "cell_type": "code",
   "execution_count": 19,
   "id": "2d0028dc",
   "metadata": {},
   "outputs": [
    {
     "name": "stdout",
     "output_type": "stream",
     "text": [
      "Values: \n",
      "dict_values([['John', 'Suresh', 'Ramesh', 'Jessica', 'Jennifer'], ['M', 'M', 'M', 'F', 'F'], ['05/04/1988', '4/5/1987', '25/5/1989', '12/8/1990', '2/9/1989'], ['55', '75', '25', '78', '58'], ['45', '55', '54', '55', '96'], ['56', '', '89', '86', '78'], ['87', '64', '76', '63', '46'], ['21', '90', '95', '54', '96'], ['52', '61', '87', '89', '77'], ['89', '58', '56', '75', '83'], ['65', '2', '74', '45', '5']])\n"
     ]
    }
   ],
   "source": [
    "#let's see all the values once\n",
    "\n",
    "print(\"Values: \")\n",
    "print(d.values())"
   ]
  },
  {
   "cell_type": "code",
   "execution_count": null,
   "id": "d64f7153",
   "metadata": {},
   "outputs": [],
   "source": []
  },
  {
   "cell_type": "markdown",
   "id": "dd4d0da5",
   "metadata": {},
   "source": [
    "**Task1: calculating the total marks**"
   ]
  },
  {
   "cell_type": "code",
   "execution_count": 20,
   "id": "f0f7ef43",
   "metadata": {},
   "outputs": [],
   "source": [
    "#here we have 5 students John, Suresh, Ramesh, Jessica, Jennifer\n",
    "#here we have 8 subjects 'Maths', 'Physics', 'Chemistry', 'English', 'Biology', 'Economics', 'History', 'Civics'\n",
    "\n",
    "#let's create another key \"total_marks\" in the dictionary to store the total marks for these 5 students\n",
    "#initially let's define the marks as 0\n",
    "\n",
    "d['total_marks'] = [0]* 5   #this will results in [0, 0, 0, 0, 0]\n",
    "\n",
    "#let's define all the subjects that students wrote the exam in another list\n",
    "all_subjects = ['Maths', 'Physics', 'Chemistry', 'English', 'Biology', 'Economics', 'History', 'Civics']"
   ]
  },
  {
   "cell_type": "code",
   "execution_count": 25,
   "id": "d162c3a7",
   "metadata": {},
   "outputs": [],
   "source": [
    "for i in range(0, 5):    #Because we have 5 students\n",
    "    sum_marks = 0        #let use one varibale which keep the sum of all subjects for each student\n",
    "    for subject in all_subjects:\n",
    "        try:\n",
    "            #d[subject][i] --> for that particular student [i], get particular subject marks\n",
    "            sum_marks = sum_marks + int(d[subject][i])  \n",
    "        except:\n",
    "            #because we have empty marks for some subjects like chemistry [may be that student did not write that exam]\n",
    "            pass\n",
    "    \n",
    "    #finally assigning the sum_marks to the dictionary d for that student i\n",
    "    d['total_marks'][i] = sum_marks"
   ]
  },
  {
   "cell_type": "code",
   "execution_count": 26,
   "id": "066f6fb3",
   "metadata": {},
   "outputs": [
    {
     "data": {
      "text/plain": [
       "[470, 405, 556, 545, 539]"
      ]
     },
     "execution_count": 26,
     "metadata": {},
     "output_type": "execute_result"
    }
   ],
   "source": [
    "#let's print the total marks\n",
    "d['total_marks']"
   ]
  },
  {
   "cell_type": "code",
   "execution_count": null,
   "id": "9107e617",
   "metadata": {},
   "outputs": [],
   "source": []
  },
  {
   "cell_type": "code",
   "execution_count": null,
   "id": "c6b65c93",
   "metadata": {},
   "outputs": [],
   "source": []
  },
  {
   "cell_type": "markdown",
   "id": "c836022a",
   "metadata": {},
   "source": [
    "**Task2: calculating the Average marks**"
   ]
  },
  {
   "cell_type": "code",
   "execution_count": 29,
   "id": "06469f8e",
   "metadata": {},
   "outputs": [
    {
     "name": "stdout",
     "output_type": "stream",
     "text": [
      "[58.75, 50.625, 69.5, 68.125, 67.375]\n"
     ]
    }
   ],
   "source": [
    "# Calculating the average marks\n",
    "d['Average Marks'] = [0]*5  # [0]*5 because we have 5 students\n",
    "\n",
    "total_subjects = len(all_subjects) #['Maths', 'Physics', 'Chemistry', 'English', 'Biology', 'Economics', 'History', 'Civics']\n",
    "\n",
    "for i in range(5):\n",
    "    d['Average Marks'][i] = d['total_marks'][i]/total_subjects\n",
    "\n",
    "print(d['Average Marks'])"
   ]
  },
  {
   "cell_type": "code",
   "execution_count": null,
   "id": "8c89251b",
   "metadata": {},
   "outputs": [],
   "source": []
  },
  {
   "cell_type": "code",
   "execution_count": null,
   "id": "0be90c25",
   "metadata": {},
   "outputs": [],
   "source": []
  },
  {
   "cell_type": "markdown",
   "id": "5ddd50b1",
   "metadata": {},
   "source": [
    "**Task3**\n",
    "\n",
    "- Can you create a new CSV file from the above student_marks.csv file? The output file should contain the following all the dictionary data with added new total marks and average marks:"
   ]
  },
  {
   "cell_type": "code",
   "execution_count": 44,
   "id": "9b430e3b",
   "metadata": {},
   "outputs": [
    {
     "name": "stdout",
     "output_type": "stream",
     "text": [
      "Writing to the file (<_io.TextIOWrapper name='output.csv' mode='w' encoding='cp1252'>) is done.\n"
     ]
    }
   ],
   "source": [
    "#opening the file in write mode\n",
    "f_out = open(\"output.csv\", \"w\")\n",
    "\n",
    "#joinging all the keys with comma as seperator\n",
    "header = ','.join([key for key in d.keys()])\n",
    "f_out.write(header+'\\n')\n",
    "\n",
    "#for values [joining by each attribute values]\n",
    "for key in d:\n",
    "    vals = ','.join([str(v) for v in d[key]])\n",
    "    f_out.write(f\"{vals}\\n\")\n",
    "\n",
    "#closing the file\n",
    "f_out.close()\n",
    "print(f\"Writing to the file ({f_out}) is done.\")"
   ]
  },
  {
   "cell_type": "code",
   "execution_count": 45,
   "id": "1ce16ef6",
   "metadata": {},
   "outputs": [
    {
     "name": "stdout",
     "output_type": "stream",
     "text": [
      ",Gender,DOB,Maths,Physics,Chemistry,English,Biology,Economics,History,Civics,total_marks,Average Marks\n",
      "John,Suresh,Ramesh,Jessica,Jennifer\n",
      "M,M,M,F,F\n",
      "05/04/1988,4/5/1987,25/5/1989,12/8/1990,2/9/1989\n",
      "55,75,25,78,58\n",
      "45,55,54,55,96\n",
      "56,,89,86,78\n",
      "87,64,76,63,46\n",
      "21,90,95,54,96\n",
      "52,61,87,89,77\n",
      "89,58,56,75,83\n",
      "65,2,74,45,5\n",
      "470,405,556,545,539\n",
      "58.75,50.625,69.5,68.125,67.375\n",
      "\n"
     ]
    }
   ],
   "source": [
    "# check the file\n",
    "with open(\"output.csv\", 'r') as f:\n",
    "    print(f.read())"
   ]
  },
  {
   "cell_type": "code",
   "execution_count": null,
   "id": "df5357b8",
   "metadata": {},
   "outputs": [],
   "source": []
  },
  {
   "cell_type": "code",
   "execution_count": null,
   "id": "15cd4075",
   "metadata": {},
   "outputs": [],
   "source": []
  },
  {
   "cell_type": "code",
   "execution_count": null,
   "id": "4607bc67",
   "metadata": {},
   "outputs": [],
   "source": []
  }
 ],
 "metadata": {
  "kernelspec": {
   "display_name": "Python 3 (ipykernel)",
   "language": "python",
   "name": "python3"
  },
  "language_info": {
   "codemirror_mode": {
    "name": "ipython",
    "version": 3
   },
   "file_extension": ".py",
   "mimetype": "text/x-python",
   "name": "python",
   "nbconvert_exporter": "python",
   "pygments_lexer": "ipython3",
   "version": "3.8.10"
  }
 },
 "nbformat": 4,
 "nbformat_minor": 5
}
