{
 "cells": [
  {
   "cell_type": "code",
   "execution_count": 1,
   "metadata": {},
   "outputs": [],
   "source": [
    "# student_marks.csv contains the marks and other details for some students. Write a python program to:\n",
    "\n",
    "# Open the file in read mode\n",
    "# Create a dictionary from the given data\n",
    "# Add a new field to the dictionary total\\_marks and store the total marks of the students.\n",
    "# Add a new field to the dictionary Average and store the average marks of the students.\n",
    "# Create a new file and write this information to the new file\n",
    "# (https://www.kaggle.com/arunkumar413/student-marks)"
   ]
  },
  {
   "cell_type": "code",
   "execution_count": 2,
   "metadata": {},
   "outputs": [
    {
     "data": {
      "text/plain": [
       "['Name,Gender,DOB,Maths,Physics,Chemistry,English,Biology,Economics,History,Civics\\n',\n",
       " 'John,M,05/04/1988,55,45,56,87,21,52,89,65\\n',\n",
       " 'Suresh,M,4/5/1987,75,55,,64,90,61,58,2\\n',\n",
       " 'Ramesh,M,25/5/1989,25,54,89,76,95,87,56,74\\n',\n",
       " 'Jessica,F,12/8/1990,78,55,86,63,54,89,75,45\\n',\n",
       " 'Jennifer,F,2/9/1989,58,96,78,46,96,77,83,53']"
      ]
     },
     "execution_count": 2,
     "metadata": {},
     "output_type": "execute_result"
    }
   ],
   "source": [
    "with open(\"student_marks.csv\",\"r\") as s:\n",
    "    student_data = s.readlines()\n",
    "student_data "
   ]
  },
  {
   "cell_type": "code",
   "execution_count": 3,
   "metadata": {},
   "outputs": [
    {
     "data": {
      "text/plain": [
       "['Name',\n",
       " 'Gender',\n",
       " 'DOB',\n",
       " 'Maths',\n",
       " 'Physics',\n",
       " 'Chemistry',\n",
       " 'English',\n",
       " 'Biology',\n",
       " 'Economics',\n",
       " 'History',\n",
       " 'Civics']"
      ]
     },
     "execution_count": 3,
     "metadata": {},
     "output_type": "execute_result"
    }
   ],
   "source": [
    "headers = student_data[0].strip().split(\",\")\n",
    "headers"
   ]
  },
  {
   "cell_type": "code",
   "execution_count": 12,
   "metadata": {},
   "outputs": [
    {
     "data": {
      "text/plain": [
       "[{'Name': 'John',\n",
       "  'Gender': 'M',\n",
       "  'DOB': '05/04/1988',\n",
       "  'Maths': '55',\n",
       "  'Physics': '45',\n",
       "  'Chemistry': '56',\n",
       "  'English': '87',\n",
       "  'Biology': '21',\n",
       "  'Economics': '52',\n",
       "  'History': '89',\n",
       "  'Civics': '65'},\n",
       " {'Name': 'Suresh',\n",
       "  'Gender': 'M',\n",
       "  'DOB': '4/5/1987',\n",
       "  'Maths': '75',\n",
       "  'Physics': '55',\n",
       "  'Chemistry': '',\n",
       "  'English': '64',\n",
       "  'Biology': '90',\n",
       "  'Economics': '61',\n",
       "  'History': '58',\n",
       "  'Civics': '2'},\n",
       " {'Name': 'Ramesh',\n",
       "  'Gender': 'M',\n",
       "  'DOB': '25/5/1989',\n",
       "  'Maths': '25',\n",
       "  'Physics': '54',\n",
       "  'Chemistry': '89',\n",
       "  'English': '76',\n",
       "  'Biology': '95',\n",
       "  'Economics': '87',\n",
       "  'History': '56',\n",
       "  'Civics': '74'},\n",
       " {'Name': 'Jessica',\n",
       "  'Gender': 'F',\n",
       "  'DOB': '12/8/1990',\n",
       "  'Maths': '78',\n",
       "  'Physics': '55',\n",
       "  'Chemistry': '86',\n",
       "  'English': '63',\n",
       "  'Biology': '54',\n",
       "  'Economics': '89',\n",
       "  'History': '75',\n",
       "  'Civics': '45'},\n",
       " {'Name': 'Jennifer',\n",
       "  'Gender': 'F',\n",
       "  'DOB': '2/9/1989',\n",
       "  'Maths': '58',\n",
       "  'Physics': '96',\n",
       "  'Chemistry': '78',\n",
       "  'English': '46',\n",
       "  'Biology': '96',\n",
       "  'Economics': '77',\n",
       "  'History': '83',\n",
       "  'Civics': '53'}]"
      ]
     },
     "execution_count": 12,
     "metadata": {},
     "output_type": "execute_result"
    }
   ],
   "source": [
    "student_details = []\n",
    "\n",
    "for student in student_data[1:]:\n",
    "    student = student.strip().split(\",\")\n",
    "    student\n",
    "    row_dict = dict(zip(headers, student))\n",
    "    row_dict\n",
    "    student_details.append(row_dict)\n",
    "    \n",
    "student_details"
   ]
  },
  {
   "cell_type": "code",
   "execution_count": 42,
   "metadata": {},
   "outputs": [
    {
     "data": {
      "text/plain": [
       "[{'Name': 'John',\n",
       "  'Gender': 'M',\n",
       "  'DOB': '05/04/1988',\n",
       "  'Maths': 55,\n",
       "  'Physics': 45,\n",
       "  'Chemistry': 56,\n",
       "  'English': 87,\n",
       "  'Biology': 21,\n",
       "  'Economics': 52,\n",
       "  'History': 89,\n",
       "  'Civics': 65,\n",
       "  'total_marks': 1146,\n",
       "  'Average': 191.0},\n",
       " {'Name': 'Suresh',\n",
       "  'Gender': 'M',\n",
       "  'DOB': '4/5/1987',\n",
       "  'Maths': 75,\n",
       "  'Physics': 55,\n",
       "  'Chemistry': '',\n",
       "  'English': 64,\n",
       "  'Biology': 90,\n",
       "  'Economics': 61,\n",
       "  'History': 58,\n",
       "  'Civics': 2,\n",
       "  'total_marks': 982,\n",
       "  'Average': 163.66666666666666},\n",
       " {'Name': 'Ramesh',\n",
       "  'Gender': 'M',\n",
       "  'DOB': '25/5/1989',\n",
       "  'Maths': 25,\n",
       "  'Physics': 54,\n",
       "  'Chemistry': 89,\n",
       "  'English': 76,\n",
       "  'Biology': 95,\n",
       "  'Economics': 87,\n",
       "  'History': 56,\n",
       "  'Civics': 74,\n",
       "  'total_marks': 1348,\n",
       "  'Average': 224.66666666666666},\n",
       " {'Name': 'Jessica',\n",
       "  'Gender': 'F',\n",
       "  'DOB': '12/8/1990',\n",
       "  'Maths': 78,\n",
       "  'Physics': 55,\n",
       "  'Chemistry': 86,\n",
       "  'English': 63,\n",
       "  'Biology': 54,\n",
       "  'Economics': 89,\n",
       "  'History': 75,\n",
       "  'Civics': 45,\n",
       "  'total_marks': 1322,\n",
       "  'Average': 220.33333333333334},\n",
       " {'Name': 'Jennifer',\n",
       "  'Gender': 'F',\n",
       "  'DOB': '2/9/1989',\n",
       "  'Maths': 58,\n",
       "  'Physics': 96,\n",
       "  'Chemistry': 78,\n",
       "  'English': 46,\n",
       "  'Biology': 96,\n",
       "  'Economics': 77,\n",
       "  'History': 83,\n",
       "  'Civics': 53,\n",
       "  'total_marks': 1424,\n",
       "  'Average': 237.33333333333334}]"
      ]
     },
     "execution_count": 42,
     "metadata": {},
     "output_type": "execute_result"
    }
   ],
   "source": [
    "# Add a new field to the dictionary total_marks and store the total marks of the students.\n",
    "# [{'Name': 'John',\n",
    "#   'Gender': 'M',\n",
    "#   'DOB': '05/04/1988',\n",
    "#   'Maths': '55',\n",
    "#   'Physics': '45',\n",
    "#   'Chemistry': '56',\n",
    "#   'English': '87',\n",
    "#   'Biology': '21',\n",
    "#   'Economics': '52',\n",
    "#   'History': '89',\n",
    "#   'Civics': '65'}]\n",
    "\n",
    "for student in student_details:\n",
    "    total_marks = 0\n",
    "    for key in student:\n",
    "        \n",
    "        if key not in [\"Name\",'Gender','DOB']:\n",
    "            if student[key] != \"\":\n",
    "                student[key] = int(student[key])\n",
    "                total_marks += student[key]\n",
    "            else:\n",
    "                pass\n",
    "            student[\"total_marks\"] = total_marks\n",
    "    student[\"Average\"] = total_marks/6\n",
    "student_details\n",
    "\n",
    "\n"
   ]
  }
 ],
 "metadata": {
  "kernelspec": {
   "display_name": "basics_env",
   "language": "python",
   "name": "python3"
  },
  "language_info": {
   "codemirror_mode": {
    "name": "ipython",
    "version": 3
   },
   "file_extension": ".py",
   "mimetype": "text/x-python",
   "name": "python",
   "nbconvert_exporter": "python",
   "pygments_lexer": "ipython3",
   "version": "3.12.3"
  }
 },
 "nbformat": 4,
 "nbformat_minor": 2
}
